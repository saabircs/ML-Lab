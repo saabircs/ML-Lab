{
  "nbformat": 4,
  "nbformat_minor": 0,
  "metadata": {
    "colab": {
      "name": "Candidate-Elimination.ipynb",
      "provenance": []
    },
    "kernelspec": {
      "name": "python3",
      "display_name": "Python 3"
    },
    "language_info": {
      "name": "python"
    }
  },
  "cells": [
    {
      "cell_type": "code",
      "execution_count": 1,
      "metadata": {
        "colab": {
          "base_uri": "https://localhost:8080/"
        },
        "id": "2SzDctJeqjpJ",
        "outputId": "ddd84fcf-6e70-419d-fbd5-2dca12b8f90d"
      },
      "outputs": [
        {
          "output_type": "stream",
          "name": "stdout",
          "text": [
            "Mounted at /content/drive\n"
          ]
        }
      ],
      "source": [
        "from google.colab import drive\n",
        "drive.mount('/content/drive')"
      ]
    },
    {
      "cell_type": "code",
      "source": [
        "import numpy as np\n",
        "import pandas as pd\n",
        "data = pd.read_csv('/content/drive/MyDrive/Colab Notebooks/ML-Lab/enjoysport.csv')\n",
        "data"
      ],
      "metadata": {
        "colab": {
          "base_uri": "https://localhost:8080/",
          "height": 175
        },
        "id": "S2kIgfMAqodQ",
        "outputId": "ab762f99-1fca-4f79-c04f-3ef947682d84"
      },
      "execution_count": 2,
      "outputs": [
        {
          "output_type": "execute_result",
          "data": {
            "text/plain": [
              "     Sky AirTemp Humidity    Wind Water Forecast EnjoySport\n",
              "0  sunny    warm   normal  strong  warm     same        yes\n",
              "1  sunny    warm     high  strong  warm     same        yes\n",
              "2  rainy    cold     high  strong  warm   change         no\n",
              "3  sunny    warm     high  strong  cool   change        yes"
            ],
            "text/html": [
              "\n",
              "  <div id=\"df-c0e5376c-9601-4c3f-ad30-f2b4daccdc8e\">\n",
              "    <div class=\"colab-df-container\">\n",
              "      <div>\n",
              "<style scoped>\n",
              "    .dataframe tbody tr th:only-of-type {\n",
              "        vertical-align: middle;\n",
              "    }\n",
              "\n",
              "    .dataframe tbody tr th {\n",
              "        vertical-align: top;\n",
              "    }\n",
              "\n",
              "    .dataframe thead th {\n",
              "        text-align: right;\n",
              "    }\n",
              "</style>\n",
              "<table border=\"1\" class=\"dataframe\">\n",
              "  <thead>\n",
              "    <tr style=\"text-align: right;\">\n",
              "      <th></th>\n",
              "      <th>Sky</th>\n",
              "      <th>AirTemp</th>\n",
              "      <th>Humidity</th>\n",
              "      <th>Wind</th>\n",
              "      <th>Water</th>\n",
              "      <th>Forecast</th>\n",
              "      <th>EnjoySport</th>\n",
              "    </tr>\n",
              "  </thead>\n",
              "  <tbody>\n",
              "    <tr>\n",
              "      <th>0</th>\n",
              "      <td>sunny</td>\n",
              "      <td>warm</td>\n",
              "      <td>normal</td>\n",
              "      <td>strong</td>\n",
              "      <td>warm</td>\n",
              "      <td>same</td>\n",
              "      <td>yes</td>\n",
              "    </tr>\n",
              "    <tr>\n",
              "      <th>1</th>\n",
              "      <td>sunny</td>\n",
              "      <td>warm</td>\n",
              "      <td>high</td>\n",
              "      <td>strong</td>\n",
              "      <td>warm</td>\n",
              "      <td>same</td>\n",
              "      <td>yes</td>\n",
              "    </tr>\n",
              "    <tr>\n",
              "      <th>2</th>\n",
              "      <td>rainy</td>\n",
              "      <td>cold</td>\n",
              "      <td>high</td>\n",
              "      <td>strong</td>\n",
              "      <td>warm</td>\n",
              "      <td>change</td>\n",
              "      <td>no</td>\n",
              "    </tr>\n",
              "    <tr>\n",
              "      <th>3</th>\n",
              "      <td>sunny</td>\n",
              "      <td>warm</td>\n",
              "      <td>high</td>\n",
              "      <td>strong</td>\n",
              "      <td>cool</td>\n",
              "      <td>change</td>\n",
              "      <td>yes</td>\n",
              "    </tr>\n",
              "  </tbody>\n",
              "</table>\n",
              "</div>\n",
              "      <button class=\"colab-df-convert\" onclick=\"convertToInteractive('df-c0e5376c-9601-4c3f-ad30-f2b4daccdc8e')\"\n",
              "              title=\"Convert this dataframe to an interactive table.\"\n",
              "              style=\"display:none;\">\n",
              "        \n",
              "  <svg xmlns=\"http://www.w3.org/2000/svg\" height=\"24px\"viewBox=\"0 0 24 24\"\n",
              "       width=\"24px\">\n",
              "    <path d=\"M0 0h24v24H0V0z\" fill=\"none\"/>\n",
              "    <path d=\"M18.56 5.44l.94 2.06.94-2.06 2.06-.94-2.06-.94-.94-2.06-.94 2.06-2.06.94zm-11 1L8.5 8.5l.94-2.06 2.06-.94-2.06-.94L8.5 2.5l-.94 2.06-2.06.94zm10 10l.94 2.06.94-2.06 2.06-.94-2.06-.94-.94-2.06-.94 2.06-2.06.94z\"/><path d=\"M17.41 7.96l-1.37-1.37c-.4-.4-.92-.59-1.43-.59-.52 0-1.04.2-1.43.59L10.3 9.45l-7.72 7.72c-.78.78-.78 2.05 0 2.83L4 21.41c.39.39.9.59 1.41.59.51 0 1.02-.2 1.41-.59l7.78-7.78 2.81-2.81c.8-.78.8-2.07 0-2.86zM5.41 20L4 18.59l7.72-7.72 1.47 1.35L5.41 20z\"/>\n",
              "  </svg>\n",
              "      </button>\n",
              "      \n",
              "  <style>\n",
              "    .colab-df-container {\n",
              "      display:flex;\n",
              "      flex-wrap:wrap;\n",
              "      gap: 12px;\n",
              "    }\n",
              "\n",
              "    .colab-df-convert {\n",
              "      background-color: #E8F0FE;\n",
              "      border: none;\n",
              "      border-radius: 50%;\n",
              "      cursor: pointer;\n",
              "      display: none;\n",
              "      fill: #1967D2;\n",
              "      height: 32px;\n",
              "      padding: 0 0 0 0;\n",
              "      width: 32px;\n",
              "    }\n",
              "\n",
              "    .colab-df-convert:hover {\n",
              "      background-color: #E2EBFA;\n",
              "      box-shadow: 0px 1px 2px rgba(60, 64, 67, 0.3), 0px 1px 3px 1px rgba(60, 64, 67, 0.15);\n",
              "      fill: #174EA6;\n",
              "    }\n",
              "\n",
              "    [theme=dark] .colab-df-convert {\n",
              "      background-color: #3B4455;\n",
              "      fill: #D2E3FC;\n",
              "    }\n",
              "\n",
              "    [theme=dark] .colab-df-convert:hover {\n",
              "      background-color: #434B5C;\n",
              "      box-shadow: 0px 1px 3px 1px rgba(0, 0, 0, 0.15);\n",
              "      filter: drop-shadow(0px 1px 2px rgba(0, 0, 0, 0.3));\n",
              "      fill: #FFFFFF;\n",
              "    }\n",
              "  </style>\n",
              "\n",
              "      <script>\n",
              "        const buttonEl =\n",
              "          document.querySelector('#df-c0e5376c-9601-4c3f-ad30-f2b4daccdc8e button.colab-df-convert');\n",
              "        buttonEl.style.display =\n",
              "          google.colab.kernel.accessAllowed ? 'block' : 'none';\n",
              "\n",
              "        async function convertToInteractive(key) {\n",
              "          const element = document.querySelector('#df-c0e5376c-9601-4c3f-ad30-f2b4daccdc8e');\n",
              "          const dataTable =\n",
              "            await google.colab.kernel.invokeFunction('convertToInteractive',\n",
              "                                                     [key], {});\n",
              "          if (!dataTable) return;\n",
              "\n",
              "          const docLinkHtml = 'Like what you see? Visit the ' +\n",
              "            '<a target=\"_blank\" href=https://colab.research.google.com/notebooks/data_table.ipynb>data table notebook</a>'\n",
              "            + ' to learn more about interactive tables.';\n",
              "          element.innerHTML = '';\n",
              "          dataTable['output_type'] = 'display_data';\n",
              "          await google.colab.output.renderOutput(dataTable, element);\n",
              "          const docLink = document.createElement('div');\n",
              "          docLink.innerHTML = docLinkHtml;\n",
              "          element.appendChild(docLink);\n",
              "        }\n",
              "      </script>\n",
              "    </div>\n",
              "  </div>\n",
              "  "
            ]
          },
          "metadata": {},
          "execution_count": 2
        }
      ]
    },
    {
      "cell_type": "code",
      "source": [
        "concepts = np.array(data)[:,:-1]"
      ],
      "metadata": {
        "id": "C7B-PrIcqzRo"
      },
      "execution_count": 5,
      "outputs": []
    },
    {
      "cell_type": "code",
      "source": [
        "concepts"
      ],
      "metadata": {
        "colab": {
          "base_uri": "https://localhost:8080/"
        },
        "id": "WbCfJ7BlrBIx",
        "outputId": "4ec525bc-0478-44ef-94ce-a9dc7ba41e82"
      },
      "execution_count": 6,
      "outputs": [
        {
          "output_type": "execute_result",
          "data": {
            "text/plain": [
              "array([['sunny', 'warm', 'normal', 'strong', 'warm', 'same'],\n",
              "       ['sunny', 'warm', 'high', 'strong', 'warm', 'same'],\n",
              "       ['rainy', 'cold', 'high', 'strong', 'warm', 'change'],\n",
              "       ['sunny', 'warm', 'high', 'strong', 'cool', 'change']],\n",
              "      dtype=object)"
            ]
          },
          "metadata": {},
          "execution_count": 6
        }
      ]
    },
    {
      "cell_type": "code",
      "source": [
        "print(\"\\nThe Instances are:\\n\",concepts)"
      ],
      "metadata": {
        "colab": {
          "base_uri": "https://localhost:8080/"
        },
        "id": "NcEVliaWrDxL",
        "outputId": "5ade2bc7-1b55-4d86-bc1a-97e093aff500"
      },
      "execution_count": 7,
      "outputs": [
        {
          "output_type": "stream",
          "name": "stdout",
          "text": [
            "\n",
            "The Instances are:\n",
            " [['sunny' 'warm' 'normal' 'strong' 'warm' 'same']\n",
            " ['sunny' 'warm' 'high' 'strong' 'warm' 'same']\n",
            " ['rainy' 'cold' 'high' 'strong' 'warm' 'change']\n",
            " ['sunny' 'warm' 'high' 'strong' 'cool' 'change']]\n"
          ]
        }
      ]
    },
    {
      "cell_type": "code",
      "source": [
        "target = np.array(data.iloc[:,-1])"
      ],
      "metadata": {
        "id": "1jkbcauurSuB"
      },
      "execution_count": 8,
      "outputs": []
    },
    {
      "cell_type": "code",
      "source": [
        "print(\"\\nThe Target Values are: \",target)"
      ],
      "metadata": {
        "colab": {
          "base_uri": "https://localhost:8080/"
        },
        "id": "Fp_ZU4PmrUjO",
        "outputId": "2b806d46-36a0-40af-9348-44b194bae0f4"
      },
      "execution_count": 9,
      "outputs": [
        {
          "output_type": "stream",
          "name": "stdout",
          "text": [
            "\n",
            "The Target Values are:  ['yes' 'yes' 'no' 'yes']\n"
          ]
        }
      ]
    },
    {
      "cell_type": "code",
      "source": [
        "def learn(concepts, target): \n",
        "    specific_h = concepts[0].copy()\n",
        "    print(\"\\nInitialization of specific_h and genearal_h\")\n",
        "    print(\"\\nSpecific Boundary: \", specific_h)\n",
        "    general_h = [[\"?\" for i in range(len(specific_h))] for i in range(len(specific_h))]\n",
        "    print(\"\\nGeneric Boundary: \",general_h)  \n",
        "\n",
        "    for i, h in enumerate(concepts):\n",
        "        print(\"\\nInstance\", i+1 , \"is \", h)\n",
        "        if target[i] == \"yes\":\n",
        "            print(\"Instance is Positive \")\n",
        "            for x in range(len(specific_h)): \n",
        "                if h[x]!= specific_h[x]:                    \n",
        "                    specific_h[x] ='?'                     \n",
        "                    general_h[x][x] ='?'\n",
        "                   \n",
        "        if target[i] == \"no\":            \n",
        "            print(\"Instance is Negative \")\n",
        "            for x in range(len(specific_h)): \n",
        "                if h[x]!= specific_h[x]:                    \n",
        "                    general_h[x][x] = specific_h[x]                \n",
        "                else:                    \n",
        "                    general_h[x][x] = '?'        \n",
        "        \n",
        "        print(\"Specific Bundary after \", i+1, \"Instance is \", specific_h)         \n",
        "        print(\"Generic Boundary after \", i+1, \"Instance is \", general_h)\n",
        "        print(\"\\n\")\n",
        "\n",
        "    indices = [i for i, val in enumerate(general_h) if val == ['?', '?', '?', '?', '?', '?']]    \n",
        "    for i in indices:   \n",
        "        general_h.remove(['?', '?', '?', '?', '?', '?']) \n",
        "    return specific_h, general_h \n",
        "\n",
        "s_final, g_final = learn(concepts, target)\n",
        "\n",
        "print(\"Final Specific_h: \", s_final, sep=\"\\n\")\n",
        "print(\"Final General_h: \", g_final,  sep=\"\\n\")\n"
      ],
      "metadata": {
        "colab": {
          "base_uri": "https://localhost:8080/"
        },
        "id": "iWt8-DpvrY3B",
        "outputId": "edd9aa2a-9900-4a5e-c301-9fd900a21c59"
      },
      "execution_count": 21,
      "outputs": [
        {
          "output_type": "stream",
          "name": "stdout",
          "text": [
            "\n",
            "Initialization of specific_h and genearal_h\n",
            "\n",
            "Specific Boundary:  ['sunny' 'warm' 'normal' 'strong' 'warm' 'same']\n",
            "\n",
            "Generic Boundary:  [['?', '?', '?', '?', '?', '?'], ['?', '?', '?', '?', '?', '?'], ['?', '?', '?', '?', '?', '?'], ['?', '?', '?', '?', '?', '?'], ['?', '?', '?', '?', '?', '?'], ['?', '?', '?', '?', '?', '?']]\n",
            "\n",
            "Instance 1 is  ['sunny' 'warm' 'normal' 'strong' 'warm' 'same']\n",
            "Instance is Positive \n",
            "Specific Bundary after  1 Instance is  ['sunny' 'warm' 'normal' 'strong' 'warm' 'same']\n",
            "Generic Boundary after  1 Instance is  [['?', '?', '?', '?', '?', '?'], ['?', '?', '?', '?', '?', '?'], ['?', '?', '?', '?', '?', '?'], ['?', '?', '?', '?', '?', '?'], ['?', '?', '?', '?', '?', '?'], ['?', '?', '?', '?', '?', '?']]\n",
            "\n",
            "\n",
            "\n",
            "Instance 2 is  ['sunny' 'warm' 'high' 'strong' 'warm' 'same']\n",
            "Instance is Positive \n",
            "Specific Bundary after  2 Instance is  ['sunny' 'warm' '?' 'strong' 'warm' 'same']\n",
            "Generic Boundary after  2 Instance is  [['?', '?', '?', '?', '?', '?'], ['?', '?', '?', '?', '?', '?'], ['?', '?', '?', '?', '?', '?'], ['?', '?', '?', '?', '?', '?'], ['?', '?', '?', '?', '?', '?'], ['?', '?', '?', '?', '?', '?']]\n",
            "\n",
            "\n",
            "\n",
            "Instance 3 is  ['rainy' 'cold' 'high' 'strong' 'warm' 'change']\n",
            "Instance is Negative \n",
            "Specific Bundary after  3 Instance is  ['sunny' 'warm' '?' 'strong' 'warm' 'same']\n",
            "Generic Boundary after  3 Instance is  [['sunny', '?', '?', '?', '?', '?'], ['?', 'warm', '?', '?', '?', '?'], ['?', '?', '?', '?', '?', '?'], ['?', '?', '?', '?', '?', '?'], ['?', '?', '?', '?', '?', '?'], ['?', '?', '?', '?', '?', 'same']]\n",
            "\n",
            "\n",
            "\n",
            "Instance 4 is  ['sunny' 'warm' 'high' 'strong' 'cool' 'change']\n",
            "Instance is Positive \n",
            "Specific Bundary after  4 Instance is  ['sunny' 'warm' '?' 'strong' '?' '?']\n",
            "Generic Boundary after  4 Instance is  [['sunny', '?', '?', '?', '?', '?'], ['?', 'warm', '?', '?', '?', '?'], ['?', '?', '?', '?', '?', '?'], ['?', '?', '?', '?', '?', '?'], ['?', '?', '?', '?', '?', '?'], ['?', '?', '?', '?', '?', '?']]\n",
            "\n",
            "\n",
            "Final Specific_h: \n",
            "['sunny' 'warm' '?' 'strong' '?' '?']\n",
            "Final General_h: \n",
            "[['sunny', '?', '?', '?', '?', '?'], ['?', 'warm', '?', '?', '?', '?']]\n"
          ]
        }
      ]
    },
    {
      "cell_type": "code",
      "source": [
        ""
      ],
      "metadata": {
        "id": "PdoReyfxsOO6"
      },
      "execution_count": null,
      "outputs": []
    }
  ]
}